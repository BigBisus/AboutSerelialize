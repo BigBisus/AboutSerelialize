{
  "nbformat": 4,
  "nbformat_minor": 0,
  "metadata": {
    "colab": {
      "provenance": [],
      "authorship_tag": "ABX9TyNBvqgTsIGE8hkq69V2n2M9",
      "include_colab_link": true
    },
    "kernelspec": {
      "name": "python3",
      "display_name": "Python 3"
    },
    "language_info": {
      "name": "python"
    }
  },
  "cells": [
    {
      "cell_type": "markdown",
      "metadata": {
        "id": "view-in-github",
        "colab_type": "text"
      },
      "source": [
        "<a href=\"https://colab.research.google.com/github/BigBisus/AboutSerelialize/blob/master/%D0%A0%D0%B0%D0%B7%D0%BC%D0%B8%D0%BD%D0%BA%D0%B0.ipynb\" target=\"_parent\"><img src=\"https://colab.research.google.com/assets/colab-badge.svg\" alt=\"Open In Colab\"/></a>"
      ]
    },
    {
      "cell_type": "code",
      "execution_count": null,
      "metadata": {
        "colab": {
          "base_uri": "https://localhost:8080/"
        },
        "id": "b2eKmSBdq35V",
        "outputId": "5a3ea543-c282-4dd9-f86f-bc4b4bbab575"
      },
      "outputs": [
        {
          "output_type": "stream",
          "name": "stdout",
          "text": [
            "Введите своё имя: алексей\n",
            "Введите свой год рождения: 2005\n",
            "Привет, алексей! В этом году тебе исполняеться 20 лет\n"
          ]
        }
      ],
      "source": [
        "ima = input('Введите своё имя: ')\n",
        "data = int(input('Введите свой год рождения: '))\n",
        "\n",
        "print(f'Привет, {ima}! В этом году тебе исполняеться {2025-data} лет')\n",
        "\n"
      ]
    },
    {
      "cell_type": "code",
      "source": [
        "a = int(input())\n",
        "\n",
        "if a % 5 == 0 and a % 10 == 0:\n",
        "  print('Число кратно и 5, и 10')\n",
        "else:\n",
        "  print('Число не кратно одновременно и 5, и 10')"
      ],
      "metadata": {
        "colab": {
          "base_uri": "https://localhost:8080/"
        },
        "id": "btpRsvd_r1Uz",
        "outputId": "3af50a78-2d90-45cb-baa6-1ca12896ebbf"
      },
      "execution_count": null,
      "outputs": [
        {
          "output_type": "stream",
          "name": "stdout",
          "text": [
            "15\n",
            "Число не кратно одновременно и 5, и 10\n"
          ]
        }
      ]
    },
    {
      "cell_type": "code",
      "source": [
        "a , b , c = int(input('введите чилсо № 1 - ')), int(input('введите чилсо № 2 - ')), int(input('введите чилсо № 3 - '))\n",
        "\n",
        "if a < b and a < c:\n",
        "  print(f'число № 1 наименьшее')\n",
        "elif b < a and b < c:\n",
        "  print(f'число № 2 наименьшее')\n",
        "elif c < b and c < a:\n",
        "  print(f'число № 3 наименьшее')"
      ],
      "metadata": {
        "colab": {
          "base_uri": "https://localhost:8080/"
        },
        "id": "KeP_WusHuVHZ",
        "outputId": "85aac8f9-fef5-491d-a891-b3427dc56e62"
      },
      "execution_count": null,
      "outputs": [
        {
          "output_type": "stream",
          "name": "stdout",
          "text": [
            "введите чилсо № 1 - 12\n",
            "введите чилсо № 2 - 33\n",
            "введите чилсо № 3 - 15\n",
            "число № 1 наименьшее\n"
          ]
        }
      ]
    },
    {
      "cell_type": "code",
      "source": [
        "start, end = int(input('Введите начальное число - ')), int(input('Введите конечное число - '))\n",
        "ListOfChet = []\n",
        "if start < end:\n",
        "  cnt = start\n",
        "  while cnt < end-1:\n",
        "    cnt+= 1\n",
        "    if cnt % 2 == 0:\n",
        "      ListOfChet.append(cnt)\n",
        "  if not ListOfChet:\n",
        "    print(f'В диапозоне [{start},{end}] нет чётных чисел')\n",
        "  else:\n",
        "    print(ListOfChet)"
      ],
      "metadata": {
        "colab": {
          "base_uri": "https://localhost:8080/"
        },
        "id": "pXxofnYqvLoU",
        "outputId": "c885baf8-8e05-4c67-80f2-7242b81756b6"
      },
      "execution_count": null,
      "outputs": [
        {
          "output_type": "stream",
          "name": "stdout",
          "text": [
            "Введите начальное число - 6\n",
            "Введите конечное число - 8\n",
            "В диапозоне [6,8] нет чётных чисел\n"
          ]
        }
      ]
    },
    {
      "cell_type": "code",
      "source": [
        "a = [12,-5,23,0,4,17,-8,0,11]\n",
        "print(len(a))\n",
        "print(a[-1])\n",
        "print(a[::-1])\n",
        "sev, fif = 0, 0\n",
        "for i in range(len(a)):\n",
        "  if a[i] == 5:\n",
        "    fif += 1\n",
        "  if a[i] == 17:\n",
        "    sev += 1\n",
        "if fif > 0 and sev > 0:\n",
        "  print('Да')\n",
        "else:\n",
        "  print('Нет')"
      ],
      "metadata": {
        "colab": {
          "base_uri": "https://localhost:8080/"
        },
        "id": "NWG0r5RfxZ-D",
        "outputId": "0c0d2fc4-7779-4850-fb73-8fd15555cb9a"
      },
      "execution_count": null,
      "outputs": [
        {
          "output_type": "stream",
          "name": "stdout",
          "text": [
            "9\n",
            "11\n",
            "[11, 0, -8, 17, 4, 0, 23, -5, 12]\n",
            "Нет\n"
          ]
        }
      ]
    },
    {
      "cell_type": "code",
      "source": [
        "import statistics as st\n",
        "std = {\"name\": input('введите имя '), \"age\": int(input('введите возраст ')), \"course\": int(input('введите курс ')), \"grades\": [4,5,3,5,4]}\n",
        "\n",
        "print(f'Имя: {std[\"name\"]} Курс: {std[\"course\"]}')\n",
        "\n",
        "avarage = st.mean(std[\"grades\"])\n",
        "print(avarage)\n",
        "std['grades'].append(5)\n",
        "print(std)\n"
      ],
      "metadata": {
        "id": "MvYqoj5PzXpe",
        "colab": {
          "base_uri": "https://localhost:8080/"
        },
        "outputId": "2df864f4-ea55-4ac6-eaaa-61edc9544637"
      },
      "execution_count": 31,
      "outputs": [
        {
          "output_type": "stream",
          "name": "stdout",
          "text": [
            "введите имя ALEX\n",
            "введите возраст 20\n",
            "введите курс 2\n",
            "Имя: ALEX Курс: 2\n",
            "4.2\n",
            "{'name': 'ALEX', 'age': 20, 'course': 2, 'grades': [4, 5, 3, 5, 4, 5]}\n"
          ]
        }
      ]
    },
    {
      "cell_type": "code",
      "source": [
        "import math\n",
        "def calculate_circe_area(radius):\n",
        "  return int(math.pi * (radius^2))\n",
        "def is_positive(number):\n",
        "  if number > 0:\n",
        "    return True\n",
        "  else:\n",
        "    return False\n",
        "r=int(input())\n",
        "\n",
        "print(f' Радиус круга: {r} \\n Площадь круга: {calculate_circe_area(r)} \\n Число {r} положительное: {is_positive(r)}')\n"
      ],
      "metadata": {
        "colab": {
          "base_uri": "https://localhost:8080/"
        },
        "id": "srmhsPgx3MKN",
        "outputId": "b3997294-66dc-485e-c51f-8d0bc5e0f0e0"
      },
      "execution_count": 36,
      "outputs": [
        {
          "output_type": "stream",
          "name": "stdout",
          "text": [
            "12\n",
            " Радиус круга: 12 \n",
            " Площадь круга: 43 \n",
            " Число 12 положительное: True\n"
          ]
        }
      ]
    },
    {
      "cell_type": "code",
      "source": [
        "def shift_string_alphabet(text, shift):\n",
        "    result = []\n",
        "    for char in text:\n",
        "        if 'a' <= char <= 'z':\n",
        "            # Для строчных букв\n",
        "            shifted_char = chr(((ord(char) - ord('a') + shift) % 26) + ord('a'))\n",
        "        elif 'A' <= char <= 'Z':\n",
        "            # Для заглавных букв\n",
        "            shifted_char = chr(((ord(char) - ord('A') + shift) % 26) + ord('A'))\n",
        "        else:\n",
        "            # Оставляем другие символы без изменений (например, пробелы, цифры)\n",
        "            shifted_char = char\n",
        "        result.append(shifted_char)\n",
        "    return \"\".join(result)\n",
        "\n",
        "input_string = \"Hello, World!\"\n",
        "shift_amount = 3 # Сдвиг вправо на 3 буквы\n",
        "shifted_string = shift_string_alphabet(input_string, shift_amount)\n",
        "print(shifted_string) # Вывод: \"Khoor, Zruog!\""
      ],
      "metadata": {
        "colab": {
          "base_uri": "https://localhost:8080/"
        },
        "id": "6aKE1Bj8BCoB",
        "outputId": "347ae340-6aed-427c-bfbd-51f3574db290"
      },
      "execution_count": 49,
      "outputs": [
        {
          "output_type": "stream",
          "name": "stdout",
          "text": [
            "Khoor, Zruog!\n"
          ]
        }
      ]
    },
    {
      "cell_type": "code",
      "source": [
        "from random import randint\n",
        "\n",
        "numbers = []\n",
        "for i in range(15):\n",
        "    numbers.append(randint(-10, 10))\n",
        "print(numbers)\n",
        "positive = [z for z in numbers if z > 0]\n",
        "print(positive)\n",
        "sqr = [z**2 for z in numbers]\n",
        "print(sqr)"
      ],
      "metadata": {
        "colab": {
          "base_uri": "https://localhost:8080/"
        },
        "id": "kGjElKDBCZPR",
        "outputId": "d204dd9e-91cc-4732-a7c3-0fea41224999"
      },
      "execution_count": 51,
      "outputs": [
        {
          "output_type": "stream",
          "name": "stdout",
          "text": [
            "[-4, -2, -7, -8, -3, 1, -6, -2, -3, 10, -10, -7, -5, 6, -3]\n",
            "[1, 10, 6]\n",
            "[16, 4, 49, 64, 9, 1, 36, 4, 9, 100, 100, 49, 25, 36, 9]\n"
          ]
        }
      ]
    },
    {
      "cell_type": "code",
      "source": [
        "while True:\n",
        "  inp= input('Введите число для преобразования, или слово \"стоп\" для завершения: ')\n",
        "  if inp.lower() == \"стоп\":\n",
        "    break\n",
        "  else:\n",
        "    try:\n",
        "      print(float(inp))\n",
        "    except ValueError:\n",
        "      print(f'\"{inp}\" не число. Введите число для преобразования, или слово \"стоп\" для завершения: ')"
      ],
      "metadata": {
        "colab": {
          "base_uri": "https://localhost:8080/"
        },
        "id": "3HVhyoITEzjC",
        "outputId": "cf6e818a-13d1-4145-d337-bd89c9d9d8bb"
      },
      "execution_count": 54,
      "outputs": [
        {
          "name": "stdout",
          "output_type": "stream",
          "text": [
            "Введите число для преобразования, или слово \"стоп\" для завершения: 12\n",
            "12.0\n",
            "Введите число для преобразования, или слово \"стоп\" для завершения: 22\n",
            "22.0\n",
            "Введите число для преобразования, или слово \"стоп\" для завершения: 123.233\n",
            "123.233\n",
            "Введите число для преобразования, или слово \"стоп\" для завершения: 2131\n",
            "2131.0\n",
            "Введите число для преобразования, или слово \"стоп\" для завершения: стоп\n"
          ]
        }
      ]
    },
    {
      "cell_type": "code",
      "source": [],
      "metadata": {
        "id": "5xYjLgEVHuKq"
      },
      "execution_count": null,
      "outputs": []
    }
  ]
}